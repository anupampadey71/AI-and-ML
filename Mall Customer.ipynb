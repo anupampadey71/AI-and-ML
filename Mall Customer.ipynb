{
 "cells": [
  {
   "cell_type": "code",
   "execution_count": 1,
   "id": "ed2c897a",
   "metadata": {},
   "outputs": [],
   "source": [
    "import matplotlib.pyplot as plt\n",
    "import seaborn as sns\n",
    "import pandas as pd\n",
    "import numpy as np"
   ]
  },
  {
   "cell_type": "markdown",
   "id": "16a53c2e",
   "metadata": {},
   "source": [
    "# Clustering Algorithm"
   ]
  },
  {
   "cell_type": "code",
   "execution_count": 2,
   "id": "2c2d9bf1",
   "metadata": {},
   "outputs": [],
   "source": [
    "# Clustering algorithms are unsupervised algorithms where the training data is not labeled\n",
    "# Rather, the algorithms cluster or group the data based on common characteristics\n",
    "\n",
    "# K-Means Clustering\n",
    "# Hierarchical clustering"
   ]
  },
  {
   "cell_type": "code",
   "execution_count": 3,
   "id": "03e4a17c",
   "metadata": {},
   "outputs": [],
   "source": [
    "#K-Means clustering- K- Means clustering is one of the most commonly used algorithms for\n",
    "# clustering unlabeled data. In K-means clustering, K refers to the number of clusters that \n",
    "# you want your data to be grouped into. In K-Means clustering, the number of clusters has to be defined before\n",
    "# K clustering can be applied to the data points.\n",
    "\n",
    "#Steps\n",
    "# Randomly assign centroid values for each cluster\n",
    "# Calculate the distance (Euclidean or Manhattan) between each data point and centroid values of \n",
    "# all the clusters\n",
    "# Assign the data point to the cluster of the centroid with the shortest distance\n",
    "# Calculate and update centroid values based on the mean values f the coordinates of all\n",
    "# the data points of the corresponding cluster\n",
    "# Repeat steps 2-4 until new centroid values for all the clusters are different\n",
    "# from the previous centroid values\n",
    "\n",
    "# Advantages\n",
    "# K-Means clustering is a simple to implement algorithm\n",
    "# Can be applied to large datasets\n",
    "# Scales well to unseen data points\n",
    "# Generalizes well to clusters of various sizes and shapes"
   ]
  },
  {
   "cell_type": "code",
   "execution_count": 4,
   "id": "6202bafa",
   "metadata": {},
   "outputs": [],
   "source": [
    "\n",
    "from sklearn.cluster import KMeans\n",
    "from matplotlib import pyplot as plt"
   ]
  },
  {
   "cell_type": "markdown",
   "id": "482d3494",
   "metadata": {},
   "source": [
    "Customer Segmentation using K-means clustering"
   ]
  },
  {
   "cell_type": "code",
   "execution_count": 5,
   "id": "50bdf292",
   "metadata": {},
   "outputs": [
    {
     "data": {
      "text/html": [
       "<div>\n",
       "<style scoped>\n",
       "    .dataframe tbody tr th:only-of-type {\n",
       "        vertical-align: middle;\n",
       "    }\n",
       "\n",
       "    .dataframe tbody tr th {\n",
       "        vertical-align: top;\n",
       "    }\n",
       "\n",
       "    .dataframe thead th {\n",
       "        text-align: right;\n",
       "    }\n",
       "</style>\n",
       "<table border=\"1\" class=\"dataframe\">\n",
       "  <thead>\n",
       "    <tr style=\"text-align: right;\">\n",
       "      <th></th>\n",
       "      <th>CustomerID</th>\n",
       "      <th>Genre</th>\n",
       "      <th>Age</th>\n",
       "      <th>Annual Income (k$)</th>\n",
       "      <th>Spending Score (1-100)</th>\n",
       "    </tr>\n",
       "  </thead>\n",
       "  <tbody>\n",
       "    <tr>\n",
       "      <th>0</th>\n",
       "      <td>1</td>\n",
       "      <td>Male</td>\n",
       "      <td>19</td>\n",
       "      <td>15</td>\n",
       "      <td>39</td>\n",
       "    </tr>\n",
       "    <tr>\n",
       "      <th>1</th>\n",
       "      <td>2</td>\n",
       "      <td>Male</td>\n",
       "      <td>21</td>\n",
       "      <td>15</td>\n",
       "      <td>81</td>\n",
       "    </tr>\n",
       "    <tr>\n",
       "      <th>2</th>\n",
       "      <td>3</td>\n",
       "      <td>Female</td>\n",
       "      <td>20</td>\n",
       "      <td>16</td>\n",
       "      <td>6</td>\n",
       "    </tr>\n",
       "    <tr>\n",
       "      <th>3</th>\n",
       "      <td>4</td>\n",
       "      <td>Female</td>\n",
       "      <td>23</td>\n",
       "      <td>16</td>\n",
       "      <td>77</td>\n",
       "    </tr>\n",
       "    <tr>\n",
       "      <th>4</th>\n",
       "      <td>5</td>\n",
       "      <td>Female</td>\n",
       "      <td>31</td>\n",
       "      <td>17</td>\n",
       "      <td>40</td>\n",
       "    </tr>\n",
       "  </tbody>\n",
       "</table>\n",
       "</div>"
      ],
      "text/plain": [
       "   CustomerID   Genre  Age  Annual Income (k$)  Spending Score (1-100)\n",
       "0           1    Male   19                  15                      39\n",
       "1           2    Male   21                  15                      81\n",
       "2           3  Female   20                  16                       6\n",
       "3           4  Female   23                  16                      77\n",
       "4           5  Female   31                  17                      40"
      ]
     },
     "execution_count": 5,
     "metadata": {},
     "output_type": "execute_result"
    }
   ],
   "source": [
    "# We will see how to segment customers based on their incomes and\n",
    "# past spending habits\n",
    "\n",
    "dataset= pd.read_csv(\"Mall_Customers.csv\")\n",
    "\n",
    "dataset.head()"
   ]
  },
  {
   "cell_type": "code",
   "execution_count": 6,
   "id": "51529706",
   "metadata": {},
   "outputs": [
    {
     "data": {
      "text/plain": [
       "(200, 5)"
      ]
     },
     "execution_count": 6,
     "metadata": {},
     "output_type": "execute_result"
    }
   ],
   "source": [
    "# The spending score is the score assigned to customers based on their previous spending habits\n",
    "# Customers with higher spending in the past have higher scores\n",
    "\n",
    "dataset.shape"
   ]
  },
  {
   "cell_type": "code",
   "execution_count": 7,
   "id": "603c0276",
   "metadata": {},
   "outputs": [
    {
     "name": "stderr",
     "output_type": "stream",
     "text": [
      "C:\\Users\\Anupam\\anaconda3new\\lib\\site-packages\\seaborn\\distributions.py:2619: FutureWarning: `distplot` is a deprecated function and will be removed in a future version. Please adapt your code to use either `displot` (a figure-level function with similar flexibility) or `histplot` (an axes-level function for histograms).\n",
      "  warnings.warn(msg, FutureWarning)\n"
     ]
    },
    {
     "data": {
      "text/plain": [
       "<AxesSubplot:xlabel='Annual Income (k$)'>"
      ]
     },
     "execution_count": 7,
     "metadata": {},
     "output_type": "execute_result"
    },
    {
     "data": {
      "image/png": "[encoded data removed]",
      "text/plain": [
       "<Figure size 432x288 with 1 Axes>"
      ]
     },
     "metadata": {
      "needs_background": "light"
     },
     "output_type": "display_data"
    }
   ],
   "source": [
    "sns.distplot(dataset[\"Annual Income (k$)\"], kde=False, bins=50)"
   ]
  },
  {
   "cell_type": "code",
   "execution_count": 8,
   "id": "50a497b6",
   "metadata": {},
   "outputs": [],
   "source": [
    "# The above output shoes that most customers have incomes between 60 and 90K per year"
   ]
  },
  {
   "cell_type": "code",
   "execution_count": 9,
   "id": "38905e62",
   "metadata": {},
   "outputs": [
    {
     "data": {
      "text/plain": [
       "<AxesSubplot:xlabel='Spending Score (1-100)'>"
      ]
     },
     "execution_count": 9,
     "metadata": {},
     "output_type": "execute_result"
    },
    {
     "data": {
      "image/png": "[encoded data removed]",
      "text/plain": [
       "<Figure size 432x288 with 1 Axes>"
      ]
     },
     "metadata": {
      "needs_background": "light"
     },
     "output_type": "display_data"
    }
   ],
   "source": [
    "sns.distplot(dataset[\"Spending Score (1-100)\"], kde=False, bins=50, color=\"red\")"
   ]
  },
  {
   "cell_type": "code",
   "execution_count": 10,
   "id": "bc538010",
   "metadata": {},
   "outputs": [],
   "source": [
    "# The above output shows that most of the customers have a spending score between 40 & 60"
   ]
  },
  {
   "cell_type": "code",
   "execution_count": 11,
   "id": "9ad3f553",
   "metadata": {},
   "outputs": [],
   "source": [
    "# We can also plot a regression line between annual income and spending score to see if there is any \n",
    "# linear relationship between the two or not"
   ]
  },
  {
   "cell_type": "code",
   "execution_count": 12,
   "id": "a94c6f04",
   "metadata": {},
   "outputs": [
    {
     "data": {
      "text/plain": [
       "<AxesSubplot:xlabel='Annual Income (k$)', ylabel='Spending Score (1-100)'>"
      ]
     },
     "execution_count": 12,
     "metadata": {},
     "output_type": "execute_result"
    },
    {
     "data": {
      "image/png": "[encoded data removed]",
      "text/plain": [
       "<Figure size 432x288 with 1 Axes>"
      ]
     },
     "metadata": {
      "needs_background": "light"
     },
     "output_type": "display_data"
    }
   ],
   "source": [
    "sns.regplot(x=\"Annual Income (k$)\",y=\"Spending Score (1-100)\", data=dataset)"
   ]
  },
  {
   "cell_type": "code",
   "execution_count": 13,
   "id": "0fa50c1a",
   "metadata": {},
   "outputs": [
    {
     "data": {
      "text/plain": [
       "<AxesSubplot:xlabel='Age', ylabel='Spending Score (1-100)'>"
      ]
     },
     "execution_count": 13,
     "metadata": {},
     "output_type": "execute_result"
    },
    {
     "data": {
      "image/png": "[encoded data removed]",
      "text/plain": [
       "<Figure size 432x288 with 1 Axes>"
      ]
     },
     "metadata": {
      "needs_background": "light"
     },
     "output_type": "display_data"
    }
   ],
   "source": [
    "sns.regplot(x=\"Age\",y=\"Spending Score (1-100)\", data=dataset)"
   ]
  },
  {
   "cell_type": "code",
   "execution_count": 14,
   "id": "3e12a3ca",
   "metadata": {},
   "outputs": [],
   "source": [
    "# The output above confirms an inverse linear relationship between age and spending score.\n",
    "# It can be inferred from the output that young people have higher spending\n",
    "# compared to older people"
   ]
  },
  {
   "cell_type": "code",
   "execution_count": 15,
   "id": "f08c7dec",
   "metadata": {},
   "outputs": [
    {
     "data": {
      "text/html": [
       "<div>\n",
       "<style scoped>\n",
       "    .dataframe tbody tr th:only-of-type {\n",
       "        vertical-align: middle;\n",
       "    }\n",
       "\n",
       "    .dataframe tbody tr th {\n",
       "        vertical-align: top;\n",
       "    }\n",
       "\n",
       "    .dataframe thead th {\n",
       "        text-align: right;\n",
       "    }\n",
       "</style>\n",
       "<table border=\"1\" class=\"dataframe\">\n",
       "  <thead>\n",
       "    <tr style=\"text-align: right;\">\n",
       "      <th></th>\n",
       "      <th>Annual Income (k$)</th>\n",
       "      <th>Spending Score (1-100)</th>\n",
       "    </tr>\n",
       "  </thead>\n",
       "  <tbody>\n",
       "    <tr>\n",
       "      <th>0</th>\n",
       "      <td>15</td>\n",
       "      <td>39</td>\n",
       "    </tr>\n",
       "    <tr>\n",
       "      <th>1</th>\n",
       "      <td>15</td>\n",
       "      <td>81</td>\n",
       "    </tr>\n",
       "    <tr>\n",
       "      <th>2</th>\n",
       "      <td>16</td>\n",
       "      <td>6</td>\n",
       "    </tr>\n",
       "    <tr>\n",
       "      <th>3</th>\n",
       "      <td>16</td>\n",
       "      <td>77</td>\n",
       "    </tr>\n",
       "    <tr>\n",
       "      <th>4</th>\n",
       "      <td>17</td>\n",
       "      <td>40</td>\n",
       "    </tr>\n",
       "  </tbody>\n",
       "</table>\n",
       "</div>"
      ],
      "text/plain": [
       "   Annual Income (k$)  Spending Score (1-100)\n",
       "0                  15                      39\n",
       "1                  15                      81\n",
       "2                  16                       6\n",
       "3                  16                      77\n",
       "4                  17                      40"
      ]
     },
     "execution_count": 15,
     "metadata": {},
     "output_type": "execute_result"
    }
   ],
   "source": [
    "# filtering annual income and spending score columns and removing remaining columns\n",
    "\n",
    "dataset=dataset.filter([\"Annual Income (k$)\",\"Spending Score (1-100)\"], axis=1)\n",
    "\n",
    "dataset.head()"
   ]
  },
  {
   "cell_type": "code",
   "execution_count": 16,
   "id": "6f344fa1",
   "metadata": {},
   "outputs": [
    {
     "data": {
      "text/plain": [
       "KMeans(n_clusters=4)"
      ]
     },
     "execution_count": 16,
     "metadata": {},
     "output_type": "execute_result"
    }
   ],
   "source": [
    "km_model= KMeans(n_clusters=4)\n",
    "km_model.fit(dataset)"
   ]
  },
  {
   "cell_type": "code",
   "execution_count": 17,
   "id": "f68b63e4",
   "metadata": {},
   "outputs": [
    {
     "name": "stdout",
     "output_type": "stream",
     "text": [
      "[[48.26       56.48      ]\n",
      " [87.         18.63157895]\n",
      " [86.53846154 82.12820513]\n",
      " [26.30434783 20.91304348]]\n"
     ]
    }
   ],
   "source": [
    "# Once the model is trained, you can print the cluster centers\n",
    "\n",
    "print(km_model.cluster_centers_)"
   ]
  },
  {
   "cell_type": "code",
   "execution_count": 18,
   "id": "ba5fabbf",
   "metadata": {},
   "outputs": [
    {
     "name": "stdout",
     "output_type": "stream",
     "text": [
      "[3 0 3 0 3 0 3 0 3 0 3 0 3 0 3 0 3 0 3 0 3 0 3 0 3 0 3 0 3 0 3 0 3 0 3 0 3\n",
      " 0 3 0 3 0 3 0 3 0 0 0 0 0 0 0 0 0 0 0 0 0 0 0 0 0 0 0 0 0 0 0 0 0 0 0 0 0\n",
      " 0 0 0 0 0 0 0 0 0 0 0 0 0 0 0 0 0 0 0 0 0 0 0 0 0 0 0 0 0 0 0 0 0 0 0 0 0\n",
      " 0 0 0 0 0 0 0 0 0 0 0 0 2 1 2 1 2 1 2 1 2 1 2 1 2 1 2 1 2 1 2 1 2 1 2 1 2\n",
      " 1 2 1 2 1 2 1 2 1 2 1 2 1 2 1 2 1 2 1 2 1 2 1 2 1 2 1 2 1 2 1 2 1 2 1 2 1\n",
      " 2 1 2 1 2 1 2 1 2 1 2 1 2 1 2]\n"
     ]
    }
   ],
   "source": [
    "# In addition to finding cluster centers, the K-Means class also assigns a cluster label\n",
    "# to each data point. The cluster labels are numbers that basically serve as cluster id\n",
    "\n",
    "print(km_model.labels_)"
   ]
  },
  {
   "cell_type": "code",
   "execution_count": 19,
   "id": "099979fc",
   "metadata": {},
   "outputs": [
    {
     "data": {
      "text/plain": [
       "<matplotlib.collections.PathCollection at 0x29def975df0>"
      ]
     },
     "execution_count": 19,
     "metadata": {},
     "output_type": "execute_result"
    },
    {
     "data": {
      "image/png": "[encoded data removed]",
      "text/plain": [
       "<Figure size 432x288 with 1 Axes>"
      ]
     },
     "metadata": {
      "needs_background": "light"
     },
     "output_type": "display_data"
    }
   ],
   "source": [
    "# print the data points\n",
    "plt.scatter(dataset.values[:,0], dataset.values[:,1], c=km_model.labels_, cmap='rainbow')\n",
    "\n",
    "# print the centroids\n",
    "\n",
    "plt.scatter(km_model.cluster_centers_[:,0],km_model.cluster_centers_[:,1], s=100, c=\"black\")"
   ]
  },
  {
   "cell_type": "code",
   "execution_count": 20,
   "id": "4ef47527",
   "metadata": {},
   "outputs": [],
   "source": [
    "# to find the optimal number of customer segments, we need to find the optimal number of K \n",
    "# because K defines the number of clusters. There is a way to find the ideal number of clusters.\n",
    "# The method is known as elbow method.\n",
    "\n",
    "# In the elbow method, the value of inertia obtained by training K-Means cluster with \n",
    "# different number of K is plotted on a graph.\n",
    "\n",
    "# The inertia represents the total distance between the data points within a cluster.\n",
    "# Smaller inertia means that the predicted clusters are robust and close to the actual clusters."
   ]
  },
  {
   "cell_type": "code",
   "execution_count": 21,
   "id": "4cf0ab4b",
   "metadata": {},
   "outputs": [
    {
     "name": "stderr",
     "output_type": "stream",
     "text": [
      "C:\\Users\\Anupam\\anaconda3new\\lib\\site-packages\\sklearn\\cluster\\_kmeans.py:881: UserWarning: KMeans is known to have a memory leak on Windows with MKL, when there are less chunks than available threads. You can avoid it by setting the environment variable OMP_NUM_THREADS=1.\n",
      "  warnings.warn(\n"
     ]
    },
    {
     "data": {
      "image/png": "[encoded data removed]",
      "text/plain": [
       "<Figure size 432x288 with 1 Axes>"
      ]
     },
     "metadata": {
      "needs_background": "light"
     },
     "output_type": "display_data"
    }
   ],
   "source": [
    "# training Kmeans on K values from 1 to 10\n",
    "\n",
    "loss=[]\n",
    "for i in range(1,11):\n",
    "    km=KMeans(n_clusters=i).fit(dataset)\n",
    "    loss.append(km.inertia_)\n",
    "    \n",
    "plt.plot(range(1,11),loss)\n",
    "plt.title('Finding optimal number via Elbow Method')\n",
    "plt.xlabel('Number of Clusters')\n",
    "plt.ylabel('loss')\n",
    "plt.show()"
   ]
  },
  {
   "cell_type": "code",
   "execution_count": 22,
   "id": "a762d071",
   "metadata": {},
   "outputs": [],
   "source": [
    "# From the output above, it can be seen that the value of inertia didn't decrease much after five clusters"
   ]
  },
  {
   "cell_type": "code",
   "execution_count": 23,
   "id": "aa6a4a7e",
   "metadata": {},
   "outputs": [
    {
     "data": {
      "text/plain": [
       "KMeans(n_clusters=5)"
      ]
     },
     "execution_count": 23,
     "metadata": {},
     "output_type": "execute_result"
    }
   ],
   "source": [
    "km_model=KMeans(n_clusters=5)\n",
    "km_model.fit(dataset)"
   ]
  },
  {
   "cell_type": "code",
   "execution_count": 24,
   "id": "ff846cb9",
   "metadata": {},
   "outputs": [
    {
     "data": {
      "text/plain": [
       "<matplotlib.collections.PathCollection at 0x29defaab340>"
      ]
     },
     "execution_count": 24,
     "metadata": {},
     "output_type": "execute_result"
    },
    {
     "data": {
      "image/png": "[encoded data removed]",
      "text/plain": [
       "<Figure size 432x288 with 1 Axes>"
      ]
     },
     "metadata": {
      "needs_background": "light"
     },
     "output_type": "display_data"
    }
   ],
   "source": [
    "# print the data points\n",
    "plt.scatter(dataset.values[:,0], dataset.values[:,1], c=km_model.labels_, cmap='rainbow')\n",
    "\n",
    "# print the centroids\n",
    "\n",
    "plt.scatter(km_model.cluster_centers_[:,0],km_model.cluster_centers_[:,1], s=100, c=\"black\")"
   ]
  },
  {
   "cell_type": "code",
   "execution_count": 25,
   "id": "f689f4c8",
   "metadata": {},
   "outputs": [],
   "source": [
    "# From the above output, you can see that the customers are divided into five segments. The\n",
    "# customers in the middle of the plot are the customers with average income and average spending.\n",
    "# You need to target the customers who belong to the top right cluster. These are the customers\n",
    "# with high incomes and high spending in the past and they are more likely to spend in the future as well.\n",
    "# So any new marketing campaigns or advertisements should be directed to these customers."
   ]
  },
  {
   "cell_type": "code",
   "execution_count": 26,
   "id": "00a55703",
   "metadata": {},
   "outputs": [
    {
     "name": "stdout",
     "output_type": "stream",
     "text": [
      "[[55.2962963  49.51851852]\n",
      " [86.53846154 82.12820513]\n",
      " [88.2        17.11428571]\n",
      " [25.72727273 79.36363636]\n",
      " [26.30434783 20.91304348]]\n"
     ]
    }
   ],
   "source": [
    "print(km_model.cluster_centers_)"
   ]
  },
  {
   "cell_type": "code",
   "execution_count": 27,
   "id": "2162c226",
   "metadata": {},
   "outputs": [
    {
     "data": {
      "text/html": [
       "<div>\n",
       "<style scoped>\n",
       "    .dataframe tbody tr th:only-of-type {\n",
       "        vertical-align: middle;\n",
       "    }\n",
       "\n",
       "    .dataframe tbody tr th {\n",
       "        vertical-align: top;\n",
       "    }\n",
       "\n",
       "    .dataframe thead th {\n",
       "        text-align: right;\n",
       "    }\n",
       "</style>\n",
       "<table border=\"1\" class=\"dataframe\">\n",
       "  <thead>\n",
       "    <tr style=\"text-align: right;\">\n",
       "      <th></th>\n",
       "      <th>data_index</th>\n",
       "      <th>cluster</th>\n",
       "    </tr>\n",
       "  </thead>\n",
       "  <tbody>\n",
       "    <tr>\n",
       "      <th>0</th>\n",
       "      <td>0</td>\n",
       "      <td>4</td>\n",
       "    </tr>\n",
       "    <tr>\n",
       "      <th>1</th>\n",
       "      <td>1</td>\n",
       "      <td>3</td>\n",
       "    </tr>\n",
       "    <tr>\n",
       "      <th>2</th>\n",
       "      <td>2</td>\n",
       "      <td>4</td>\n",
       "    </tr>\n",
       "    <tr>\n",
       "      <th>3</th>\n",
       "      <td>3</td>\n",
       "      <td>3</td>\n",
       "    </tr>\n",
       "    <tr>\n",
       "      <th>4</th>\n",
       "      <td>4</td>\n",
       "      <td>4</td>\n",
       "    </tr>\n",
       "    <tr>\n",
       "      <th>...</th>\n",
       "      <td>...</td>\n",
       "      <td>...</td>\n",
       "    </tr>\n",
       "    <tr>\n",
       "      <th>195</th>\n",
       "      <td>195</td>\n",
       "      <td>1</td>\n",
       "    </tr>\n",
       "    <tr>\n",
       "      <th>196</th>\n",
       "      <td>196</td>\n",
       "      <td>2</td>\n",
       "    </tr>\n",
       "    <tr>\n",
       "      <th>197</th>\n",
       "      <td>197</td>\n",
       "      <td>1</td>\n",
       "    </tr>\n",
       "    <tr>\n",
       "      <th>198</th>\n",
       "      <td>198</td>\n",
       "      <td>2</td>\n",
       "    </tr>\n",
       "    <tr>\n",
       "      <th>199</th>\n",
       "      <td>199</td>\n",
       "      <td>1</td>\n",
       "    </tr>\n",
       "  </tbody>\n",
       "</table>\n",
       "<p>200 rows × 2 columns</p>\n",
       "</div>"
      ],
      "text/plain": [
       "     data_index  cluster\n",
       "0             0        4\n",
       "1             1        3\n",
       "2             2        4\n",
       "3             3        3\n",
       "4             4        4\n",
       "..          ...      ...\n",
       "195         195        1\n",
       "196         196        2\n",
       "197         197        1\n",
       "198         198        2\n",
       "199         199        1\n",
       "\n",
       "[200 rows x 2 columns]"
      ]
     },
     "execution_count": 27,
     "metadata": {},
     "output_type": "execute_result"
    }
   ],
   "source": [
    "cluster_map=pd.DataFrame()\n",
    "cluster_map['data_index']=dataset.index.values\n",
    "cluster_map['cluster']=km_model.labels_\n",
    "cluster_map"
   ]
  },
  {
   "cell_type": "code",
   "execution_count": 28,
   "id": "bba71182",
   "metadata": {},
   "outputs": [
    {
     "data": {
      "text/html": [
       "<div>\n",
       "<style scoped>\n",
       "    .dataframe tbody tr th:only-of-type {\n",
       "        vertical-align: middle;\n",
       "    }\n",
       "\n",
       "    .dataframe tbody tr th {\n",
       "        vertical-align: top;\n",
       "    }\n",
       "\n",
       "    .dataframe thead th {\n",
       "        text-align: right;\n",
       "    }\n",
       "</style>\n",
       "<table border=\"1\" class=\"dataframe\">\n",
       "  <thead>\n",
       "    <tr style=\"text-align: right;\">\n",
       "      <th></th>\n",
       "      <th>data_index</th>\n",
       "      <th>cluster</th>\n",
       "    </tr>\n",
       "  </thead>\n",
       "  <tbody>\n",
       "    <tr>\n",
       "      <th>124</th>\n",
       "      <td>124</td>\n",
       "      <td>2</td>\n",
       "    </tr>\n",
       "    <tr>\n",
       "      <th>128</th>\n",
       "      <td>128</td>\n",
       "      <td>2</td>\n",
       "    </tr>\n",
       "    <tr>\n",
       "      <th>130</th>\n",
       "      <td>130</td>\n",
       "      <td>2</td>\n",
       "    </tr>\n",
       "    <tr>\n",
       "      <th>134</th>\n",
       "      <td>134</td>\n",
       "      <td>2</td>\n",
       "    </tr>\n",
       "    <tr>\n",
       "      <th>136</th>\n",
       "      <td>136</td>\n",
       "      <td>2</td>\n",
       "    </tr>\n",
       "  </tbody>\n",
       "</table>\n",
       "</div>"
      ],
      "text/plain": [
       "     data_index  cluster\n",
       "124         124        2\n",
       "128         128        2\n",
       "130         130        2\n",
       "134         134        2\n",
       "136         136        2"
      ]
     },
     "execution_count": 28,
     "metadata": {},
     "output_type": "execute_result"
    }
   ],
   "source": [
    "cluster_map= cluster_map[cluster_map.cluster==2]\n",
    "cluster_map.head()"
   ]
  },
  {
   "cell_type": "code",
   "execution_count": 29,
   "id": "9ba0795f",
   "metadata": {},
   "outputs": [],
   "source": [
    "# These are the customers who have high incomes and high spending and these customers should be targeted\n",
    "# during marketing campaigns"
   ]
  }
 ],
 "metadata": {
  "kernelspec": {
   "display_name": "Python 3 (ipykernel)",
   "language": "python",
   "name": "python3"
  },
  "language_info": {
   "codemirror_mode": {
    "name": "ipython",
    "version": 3
   },
   "file_extension": ".py",
   "mimetype": "text/x-python",
   "name": "python",
   "nbconvert_exporter": "python",
   "pygments_lexer": "ipython3",
   "version": "3.9.7"
  }
 },
 "nbformat": 4,
 "nbformat_minor": 5
}
