{
  "cells": [
    {
      "cell_type": "markdown",
      "metadata": {
        "id": "view-in-github",
        "colab_type": "text"
      },
      "source": [
        "<a href=\"https://colab.research.google.com/github/anupampadey71/AI-and-ML/blob/main/ANN_and_CNN.ipynb\" target=\"_parent\"><img src=\"https://colab.research.google.com/assets/colab-badge.svg\" alt=\"Open In Colab\"/></a>"
      ]
    },
    {
      "cell_type": "code",
      "execution_count": null,
      "id": "161f72fa",
      "metadata": {
        "id": "161f72fa"
      },
      "outputs": [],
      "source": [
        "# https://www.bing.com/images/search?view=detailV2&ccid=kaxFfBnq&id=AD2EC9CA454FEBF1AA328BEBCEAB3C46A6BE94F3&thid=OIP.kaxFfBnq9MvXQQ_b8alIxAHaI5&mediaurl=https%3a%2f%2fwww.norwegiancreations.com%2fwp-content%2fuploads%2f2019%2f04%2fneural_network.png&exph=1443&expw=1200&q=neural+networks&simid=608034298438094607&FORM=IRPRST&ck=9DBF928D8B4E0305140D8DBF1D787F34&selectedIndex=1&ajaxhist=0&ajaxserp=0\n",
        "\n",
        "# https://www.bing.com/images/search?view=detailV2&ccid=GWa2CNAh&id=3EB02540780073ECB247DB6C886F098D06EFAE3D&thid=OIP.GWa2CNAhABt0I1DIryl49QHaET&mediaurl=https%3a%2f%2fi.stack.imgur.com%2fUrm63.png&exph=396&expw=682&q=perceptron&simid=608051946460438379&FORM=IRPRST&ck=65C07BDE20175D7132A58145966CE2C5&selectedIndex=1&ajaxhist=0&ajaxserp=0\n",
        "\n",
        "# https://www.bing.com/images/search?view=detailV2&ccid=eT%2fHzPAM&id=7F83E0B85CA8696759BD3417A4036A2CF5833EBA&thid=OIP.eT_HzPAM0gpsqjirjbR48AHaEm&mediaurl=https%3a%2f%2fmiro.medium.com%2fmax%2f2010%2f1*QhPZ4yGFGdXklywNlAk0Wg.png&exph=624&expw=1005&q=gradient+descent+in+machine+learning&simid=608027374971214203&FORM=IRPRST&ck=D45A4E0A4D8BCAD2A28292FD14ECA175&selectedIndex=3&ajaxhist=0&ajaxserp=0\n"
      ]
    },
    {
      "cell_type": "code",
      "execution_count": null,
      "id": "e3f3dfe9",
      "metadata": {
        "id": "e3f3dfe9"
      },
      "outputs": [],
      "source": [
        "# Deep Learning is a field within Machine Learning that deals with building and using neural network models.\n",
        "# Neural Network models mimic the functioning of human brain. Neural Networks with more than  three layers are\n",
        "# typically categorised as Deep Learning Networks\n",
        "\n",
        "# Deep Learning has been extremely popular in Natural Language Processing becuse the neural network architectures\n",
        "# are ideal for dealing with unstructured data, they are also popular for speech recognition\n",
        "\n",
        "# Image recognition is another domain where deep learning models are deployed. Self-Driving cars\n",
        "# The application of Deep Learning is also popular in domains like customer experience, healthcare and robotics"
      ]
    },
    {
      "cell_type": "code",
      "execution_count": null,
      "id": "872fef89",
      "metadata": {
        "id": "872fef89"
      },
      "outputs": [],
      "source": [
        "# The concept of linear regression forms a key foundation for Deep Learning Projects\n",
        "# Linear regression is a linear model that explains the relationship between two or more variables\n",
        "# Linear regression is used to predict continuous variables\n",
        "# A related technique that is most used in Deep Learning is Logistic Regression. \n",
        "# Logistic Regression is a binary model that defines the relationship between two variables"
      ]
    },
    {
      "cell_type": "code",
      "execution_count": null,
      "id": "9da61a8e",
      "metadata": {
        "id": "9da61a8e"
      },
      "outputs": [],
      "source": [
        "# Perceptron- The perceptron is the unit for learning in an artificial neural networks. A perceptron represents\n",
        "# the algorithm for supervised learning in an ANN. Multiple inputs are fed into perceptron which in turn does\n",
        "# computations and outputs a boolean variable. It represents a single cell or node in a neural network.\n",
        "# It is built based on Logistic Regression\n",
        "# In deep learning we replace slope of model with weights called as w and intercept with bias called as b.\n",
        "# Weights and biases become the parameters for a neural network. We then apply an activation function f\n",
        "# that outputs a boolean result basd on the values.\n",
        "# The number of weights equals the number of inputs"
      ]
    },
    {
      "cell_type": "code",
      "execution_count": null,
      "id": "c7624a7d",
      "metadata": {
        "id": "c7624a7d"
      },
      "outputs": [],
      "source": [
        "# A ANN is a network of perceptrons. A deep neural network usually has three or more layers. Each node\n",
        "# has its own weights, biases and activation function. Each node is connected to all the nodes in the next layer\n",
        "# forming a dense network. The number of layers and the number of nodes in each layer are determined by experience and trials \n",
        "# and it changes from case to case.\n",
        "\n",
        "# The inputs or independent variables are sent from the input layer of the network. Data maybe preprocessed\n",
        "# before using them. Each node is a perceptron containing weights, bias and an activation function. The formula\n",
        "# is applied on the input and the output is derived. As the process reaches the output layer the final\n",
        "# prediction will be derived."
      ]
    },
    {
      "cell_type": "code",
      "execution_count": null,
      "id": "e25bd4c6",
      "metadata": {
        "id": "e25bd4c6"
      },
      "outputs": [],
      "source": [
        "# An ANN is created through a model training process. A neural network is represented by a set of parameters\n",
        "# and hyperparameters. Training an ANN means determining the right values for these parameters\n",
        "# and hyperparameters such that it maximises the accuracy of predictions for the given use case.\n",
        "\n",
        "# We use training data like regular ML, where we know both the dependent and independent variables. We start the\n",
        "# network architecture by intuition. We also initialise weights and biases to random values. Then we repeat\n",
        "# the iterations of applying weights and biases to the inputs and computing the error. Based on the error \n",
        "# found we will adjust the weights and bias to reduce the error.\n",
        "\n",
        "# We keep repeating the process of adjusting weights and biases until the error gets to an accceptable value.\n",
        "# We will also fine tune the network hyperparameters to improve the training speed and reduce iterations.\n",
        "# Finally, we will save the model as represented by its parameters and hyperparameters and then\n",
        "# use it for predictions."
      ]
    },
    {
      "cell_type": "code",
      "execution_count": null,
      "id": "a23775d3",
      "metadata": {
        "id": "a23775d3"
      },
      "outputs": [],
      "source": [
        "# Neural Network Architecture\n",
        "\n",
        "# Input Layer- A vector is an ordered list of numeric values. The input to deep learning model is usually a vector of\n",
        "# numeric values. Vectors are usually defined using NumPy arrays. It represents the feature variables or independent\n",
        "# variables that are used for predictions as well as training. There are a number of advance preprocessing techniques\n",
        "# that are applied to data to prepare them for deep learning. Once the input data is ready it can be passed to the\n",
        "# deep learning model for training.\n",
        "\n",
        "# Hidden Layer- An artificial neural network can have one or more hidden layers. The more the number of layers the deeper\n",
        "# the network is. Each hidden layer can have one or more nodes. Typically, the node count is configured in the\n",
        "# range of 2^n. Examples maybe 8,16,32,64,128 etc. A neural network is defined by the number of layers and nodes.\n",
        "# The output of each node in previous layer will become the input for every node in the current layer. Similarly,\n",
        "# the output of each node in the current layer is passed to every node in the next layer. When there are more\n",
        "# nodes and layers it usually results in better accuracy. As a general practice, start with small number and keep \n",
        "# adding until an acceptable accuracy levels are obtained.\n",
        "\n",
        "# Weights and Biases- They form the basis for Deep Learning algorithms. Weights and biases are the trainable\n",
        "# parameters in a neural network model. During a training process, the values for these weights and biases \n",
        "# are determined such that they provide accurate predictions. Weights and biases are nothing but a collection of\n",
        "# numeric values. Each input for each node will have an associated weight with it.\n",
        "\n",
        "# Activation Functions: An activation function plays an important role in creating the output of the node in\n",
        "# the neural network. An activation function takes the matrix output of the node and determines if and how the node\n",
        "# will propagate information to the next layer. Activation functions act as filters to reduce noise and\n",
        "# also normalise the output. The main objective of activation function is that it converts the output to a non-linear value.\n",
        "# They serve as a critical step in helping a neural network learn specific patterns in the data.\n",
        "# TanH- A TanH function normalizes the output in the range of minus one to plus one (-1 to +1)\n",
        "# ReLu- Rectified Linear Unit- A ReLu produces a zero if the output is negative. Else, it will reproduce\n",
        "# the same input verbatim.\n",
        "# A Softmax activation function is used in the case of classification problems. It produces a vector of\n",
        "# probabilities for each of the possible classes in the outcome. The sum of the probabilities will be equal to one.\n",
        "# The class with the highest probability will be considered for prediction.\n",
        "# These all activation functions are added as hyperparameter in the model.\n",
        "\n",
        "# Output Layer- The output layer is the final layer in the neural network where desired predictions are obtained.\n",
        "# There is one output layer in a neural network that produces the desired final prediction. It has its own set\n",
        "# of weights and biases that are applied before the final output is derived. The activation function for the output\n",
        "# layer may be different than the hidden layers based on the problem. For example- The softmax activation function\n",
        "# is used to derive final classes in a classification problem."
      ]
    },
    {
      "cell_type": "code",
      "execution_count": null,
      "id": "41202aa9",
      "metadata": {
        "id": "41202aa9"
      },
      "outputs": [],
      "source": [
        "# Training a neural network\n",
        "\n",
        "# Set up and Initialisation- In this process we apply a number of processing techniques to convert\n",
        "# samples into numeric vectors. To help with the training the input data is usually split into training,\n",
        "# validation and test sets\n",
        "\n",
        "# Forward Propagation- \n",
        "# Measuring accuracy and error- It is used to represent the gap between the predicted values and actual values\n",
        "# of the target variable.\n",
        "\n",
        "# back Propagation- Once we have estimated the prediction error from forward propagation, we need to go back to adjust,\n",
        "# weights and biases. Back propagation works in the reverse direction as the forward propagation.\n",
        "\n",
        "# Gradient Descent- Gradient Descent is the process of repeating forward and backward propagation in order\n",
        "# to reduce error and move closer to the desired model.\n",
        "\n",
        "# Batches and Epochs- A batch is a set of training examples, that are sent through the neural network\n",
        "# in one single pass\n",
        "# The total number of times the enitire training data is sent through the neural network is called as Epoch\n",
        "\n",
        "# Validation and Testing- "
      ]
    },
    {
      "cell_type": "code",
      "execution_count": null,
      "id": "224b089c",
      "metadata": {
        "id": "224b089c"
      },
      "outputs": [],
      "source": [
        "# !pip install tensorflow"
      ]
    },
    {
      "cell_type": "code",
      "execution_count": null,
      "id": "e776fc7f",
      "metadata": {
        "id": "e776fc7f"
      },
      "outputs": [],
      "source": [
        "import pandas as pd\n",
        "import numpy as np\n",
        "import matplotlib.pyplot as plt\n",
        "import os\n",
        "import tensorflow as tf\n",
        "from sklearn.model_selection import train_test_split\n",
        "from sklearn.preprocessing import StandardScaler"
      ]
    },
    {
      "cell_type": "code",
      "execution_count": null,
      "id": "d3b21e8c",
      "metadata": {
        "id": "d3b21e8c"
      },
      "outputs": [],
      "source": [
        "# Prepare input data for deep learning\n",
        "# load data into pandas dataframe\n",
        "# convert the dataframe into numpy array\n",
        "# Scale the feature dataset\n",
        "# Use onehot encoding for the target variable\n",
        "# Split the dataset into training and test sets"
      ]
    },
    {
      "cell_type": "code",
      "execution_count": null,
      "id": "fbda733c",
      "metadata": {
        "id": "fbda733c",
        "outputId": "7bac7466-f941-4f0c-c381-850ff3f1cf4a"
      },
      "outputs": [
        {
          "name": "stdout",
          "output_type": "stream",
          "text": [
            "   Sepal.Length  Sepal.Width  Petal.Length  Petal.Width Species\n",
            "0           5.1          3.5           1.4          0.2  setosa\n",
            "1           4.9          3.0           1.4          0.2  setosa\n",
            "2           4.7          3.2           1.3          0.2  setosa\n",
            "3           4.6          3.1           1.5          0.2  setosa\n",
            "4           5.0          3.6           1.4          0.2  setosa\n",
            "(150, 5)\n",
            "\n",
            "Features before scaling: \n",
            "--------------------------------------------------------\n",
            "[[5.1 3.5 1.4 0.2]\n",
            " [4.9 3.  1.4 0.2]\n",
            " [4.7 3.2 1.3 0.2]\n",
            " [4.6 3.1 1.5 0.2]\n",
            " [5.  3.6 1.4 0.2]]\n",
            "\n",
            "Target before scaling: \n",
            "--------------------------------------------------------------\n",
            "[0. 0. 0. 0. 0.]\n",
            "\n",
            "Features after scaling: \n",
            "--------------------------------------------------------\n",
            "[[-0.90068117  1.01900435 -1.34022653 -1.3154443 ]\n",
            " [-1.14301691 -0.13197948 -1.34022653 -1.3154443 ]\n",
            " [-1.38535265  0.32841405 -1.39706395 -1.3154443 ]\n",
            " [-1.50652052  0.09821729 -1.2833891  -1.3154443 ]\n",
            " [-1.02184904  1.24920112 -1.34022653 -1.3154443 ]]\n",
            "\n",
            "Target after scaling: \n",
            "--------------------------------------------------------------\n",
            "[[1. 0. 0.]\n",
            " [1. 0. 0.]\n",
            " [1. 0. 0.]\n",
            " [1. 0. 0.]\n",
            " [1. 0. 0.]]\n",
            "\n",
            " Train Test Dimensions: \n",
            "--------------------------------------------------------\n",
            "(135, 4) (15, 4) (135, 3) (15, 3)\n"
          ]
        }
      ],
      "source": [
        "iris_data= pd.read_csv(\"iris.csv\")\n",
        "print(iris_data.head())\n",
        "\n",
        "from sklearn.preprocessing import LabelEncoder\n",
        "\n",
        "label_encoder= LabelEncoder()\n",
        "iris_data[\"Species\"]= label_encoder.fit_transform(iris_data[\"Species\"])\n",
        "\n",
        "np_iris= iris_data.to_numpy()\n",
        "print(np_iris.shape)\n",
        "\n",
        "X_data=np_iris[:,0:4]\n",
        "\n",
        "Y_data=np_iris[:,4]\n",
        "\n",
        "print(\"\\nFeatures before scaling: \\n--------------------------------------------------------\")\n",
        "print(X_data[:5,:])\n",
        "print(\"\\nTarget before scaling: \\n--------------------------------------------------------------\")\n",
        "print(Y_data[:5])\n",
        "\n",
        "scaler= StandardScaler().fit(X_data)\n",
        "\n",
        "X_data= scaler.transform(X_data)\n",
        "\n",
        "Y_data=tf.keras.utils.to_categorical(Y_data,3)\n",
        "\n",
        "print(\"\\nFeatures after scaling: \\n--------------------------------------------------------\")\n",
        "print(X_data[:5,:])\n",
        "print(\"\\nTarget after scaling: \\n--------------------------------------------------------------\")\n",
        "print(Y_data[:5])\n",
        "\n",
        "X_train, X_test, Y_train, Y_test= train_test_split(X_data, Y_data, test_size=0.10)\n",
        "\n",
        "print(\"\\n Train Test Dimensions: \\n--------------------------------------------------------\")\n",
        "\n",
        "print(X_train.shape, X_test.shape, Y_train.shape, Y_test.shape)"
      ]
    },
    {
      "cell_type": "code",
      "execution_count": null,
      "id": "c30d84b6",
      "metadata": {
        "id": "c30d84b6"
      },
      "outputs": [],
      "source": [
        "# Creating a model\n",
        "# Number of hidden layers\n",
        "# Number of nodes in each layer\n",
        "# Activation functions\n",
        "# Loss function and accuracy measurements"
      ]
    },
    {
      "cell_type": "code",
      "execution_count": null,
      "id": "7336e081",
      "metadata": {
        "id": "7336e081",
        "outputId": "2d5511a7-261b-4156-c1cf-06e154062791"
      },
      "outputs": [
        {
          "name": "stdout",
          "output_type": "stream",
          "text": [
            "Model: \"sequential_1\"\n",
            "_________________________________________________________________\n",
            " Layer (type)                Output Shape              Param #   \n",
            "=================================================================\n",
            " Hidden-Layer-1 (Dense)      (None, 128)               640       \n",
            "                                                                 \n",
            " Hidden-Layer-2 (Dense)      (None, 128)               16512     \n",
            "                                                                 \n",
            " Output-Layer (Dense)        (None, 3)                 387       \n",
            "                                                                 \n",
            "=================================================================\n",
            "Total params: 17,539\n",
            "Trainable params: 17,539\n",
            "Non-trainable params: 0\n",
            "_________________________________________________________________\n"
          ]
        }
      ],
      "source": [
        "from tensorflow import keras\n",
        "\n",
        "# Number of classes in the target variable\n",
        "NB_CLASSES=3\n",
        "\n",
        "# create a sequential model in keras\n",
        "model= tf.keras.models.Sequential()\n",
        "\n",
        "# Add the first hidden layer\n",
        "model.add(keras.layers.Dense(128, # Number of nodes\n",
        "                            input_shape=(4,), # number of input variables\n",
        "                            name=\"Hidden-Layer-1\", # logical name\n",
        "                            activation=\"relu\")) # activation function\n",
        "\n",
        "# Add a second hidden layer\n",
        "model.add(keras.layers.Dense(128,\n",
        "                            name=\"Hidden-Layer-2\",\n",
        "                            activation=\"relu\"))\n",
        "\n",
        "# Add an output layer with softmax function\n",
        "model.add(keras.layers.Dense(NB_CLASSES,\n",
        "                            name=\"Output-Layer\",\n",
        "                            activation=\"softmax\"))\n",
        "\n",
        "# compile the model with loss and metrics\n",
        "model.compile(loss=\"categorical_crossentropy\",\n",
        "             metrics=['accuracy'])\n",
        "\n",
        "# Print the model summary\n",
        "model.summary()"
      ]
    },
    {
      "cell_type": "code",
      "execution_count": null,
      "id": "c8823c25",
      "metadata": {
        "id": "c8823c25",
        "outputId": "8cc41841-a2fb-413c-d330-20bcfde63327"
      },
      "outputs": [
        {
          "name": "stdout",
          "output_type": "stream",
          "text": [
            "\n",
            "Training Progress: \n",
            " -------------------------------------------\n",
            "Epoch 1/20\n",
            "7/7 [==============================] - 3s 24ms/step - loss: 0.8502 - accuracy: 0.7037 - val_loss: 0.5728 - val_accuracy: 0.8519\n",
            "Epoch 2/20\n",
            "7/7 [==============================] - 0s 4ms/step - loss: 0.5552 - accuracy: 0.8333 - val_loss: 0.4162 - val_accuracy: 0.8519\n",
            "Epoch 3/20\n",
            "7/7 [==============================] - 0s 3ms/step - loss: 0.4399 - accuracy: 0.8426 - val_loss: 0.3363 - val_accuracy: 0.8519\n",
            "Epoch 4/20\n",
            "7/7 [==============================] - 0s 4ms/step - loss: 0.3784 - accuracy: 0.8333 - val_loss: 0.2960 - val_accuracy: 0.8519\n",
            "Epoch 5/20\n",
            "7/7 [==============================] - 0s 4ms/step - loss: 0.3326 - accuracy: 0.8426 - val_loss: 0.2667 - val_accuracy: 0.9630\n",
            "Epoch 6/20\n",
            "7/7 [==============================] - 0s 3ms/step - loss: 0.3042 - accuracy: 0.8889 - val_loss: 0.2392 - val_accuracy: 0.9630\n",
            "Epoch 7/20\n",
            "7/7 [==============================] - 0s 4ms/step - loss: 0.2770 - accuracy: 0.8981 - val_loss: 0.2154 - val_accuracy: 0.9259\n",
            "Epoch 8/20\n",
            "7/7 [==============================] - 0s 3ms/step - loss: 0.2503 - accuracy: 0.8889 - val_loss: 0.1954 - val_accuracy: 0.9630\n",
            "Epoch 9/20\n",
            "7/7 [==============================] - 0s 4ms/step - loss: 0.2339 - accuracy: 0.9259 - val_loss: 0.1819 - val_accuracy: 0.9259\n",
            "Epoch 10/20\n",
            "7/7 [==============================] - 0s 3ms/step - loss: 0.2105 - accuracy: 0.9167 - val_loss: 0.1647 - val_accuracy: 0.9630\n",
            "Epoch 11/20\n",
            "7/7 [==============================] - 0s 4ms/step - loss: 0.1923 - accuracy: 0.9352 - val_loss: 0.1518 - val_accuracy: 0.9630\n",
            "Epoch 12/20\n",
            "7/7 [==============================] - 0s 3ms/step - loss: 0.1730 - accuracy: 0.9444 - val_loss: 0.1378 - val_accuracy: 0.9630\n",
            "Epoch 13/20\n",
            "7/7 [==============================] - 0s 5ms/step - loss: 0.1549 - accuracy: 0.9630 - val_loss: 0.1231 - val_accuracy: 1.0000\n",
            "Epoch 14/20\n",
            "7/7 [==============================] - 0s 3ms/step - loss: 0.1414 - accuracy: 0.9630 - val_loss: 0.1125 - val_accuracy: 1.0000\n",
            "Epoch 15/20\n",
            "7/7 [==============================] - 0s 3ms/step - loss: 0.1321 - accuracy: 0.9537 - val_loss: 0.1047 - val_accuracy: 0.9630\n",
            "Epoch 16/20\n",
            "7/7 [==============================] - 0s 3ms/step - loss: 0.1160 - accuracy: 0.9630 - val_loss: 0.0951 - val_accuracy: 1.0000\n",
            "Epoch 17/20\n",
            "7/7 [==============================] - 0s 4ms/step - loss: 0.1202 - accuracy: 0.9537 - val_loss: 0.0910 - val_accuracy: 1.0000\n",
            "Epoch 18/20\n",
            "7/7 [==============================] - 0s 3ms/step - loss: 0.1044 - accuracy: 0.9630 - val_loss: 0.0870 - val_accuracy: 1.0000\n",
            "Epoch 19/20\n",
            "7/7 [==============================] - 0s 3ms/step - loss: 0.0964 - accuracy: 0.9722 - val_loss: 0.0815 - val_accuracy: 1.0000\n",
            "Epoch 20/20\n",
            "7/7 [==============================] - 0s 3ms/step - loss: 0.0935 - accuracy: 0.9630 - val_loss: 0.0783 - val_accuracy: 0.9630\n",
            "\n",
            "Accuracy during training: \n",
            "----------------------------------------------------------------\n"
          ]
        },
        {
          "data": {
            "image/png": "[encoded data removed]",
            "text/plain": [
              "<Figure size 576x360 with 1 Axes>"
            ]
          },
          "metadata": {
            "needs_background": "light"
          },
          "output_type": "display_data"
        },
        {
          "name": "stdout",
          "output_type": "stream",
          "text": [
            "\n",
            "Evaluation against test dataset: \n",
            "--------------------------------------------------\n",
            "1/1 [==============================] - 0s 14ms/step - loss: 0.1619 - accuracy: 0.9333\n"
          ]
        },
        {
          "data": {
            "text/plain": [
              "[0.16192644834518433, 0.9333333373069763]"
            ]
          },
          "execution_count": 15,
          "metadata": {},
          "output_type": "execute_result"
        }
      ],
      "source": [
        "# Training and evaluating the model\n",
        "\n",
        "# Make it verbose so that we can see the process\n",
        "VERBOSE=1\n",
        "\n",
        "# Set hyperparameters for training\n",
        "\n",
        "# Set batch size\n",
        "BATCH_SIZE=16\n",
        "# Set the number of epochs\n",
        "EPOCHS=20\n",
        "# Set the validation split. 20% of the training dataset will be used for validation\n",
        "VALIDATION_SPLIT=0.2\n",
        "\n",
        "print(\"\\nTraining Progress: \\n -------------------------------------------\")\n",
        "\n",
        "# Fitting the model. This will perform the entire training cycle, including forward propagation,\n",
        "# loss computation, backward propagation and gradient descent.\n",
        "# It is executed for the specified batch sizes and epoch\n",
        "# And perform validation after each epoch\n",
        "\n",
        "history= model.fit(X_train,\n",
        "                  Y_train,\n",
        "                  batch_size=BATCH_SIZE,\n",
        "                  epochs=EPOCHS,\n",
        "                  verbose=VERBOSE,\n",
        "                  validation_split= VALIDATION_SPLIT)\n",
        "\n",
        "print(\"\\nAccuracy during training: \\n----------------------------------------------------------------\")\n",
        "\n",
        "import matplotlib.pyplot as plt\n",
        "\n",
        "# Plot the accuracy of the model after each epoch\n",
        "pd.DataFrame(history.history)[\"accuracy\"].plot(figsize=(8,5))\n",
        "plt.title(\"Accuracy improvement with each epoch\")\n",
        "plt.show()\n",
        "\n",
        "# Evaluate the model against the test dataset and print the result\n",
        "\n",
        "print(\"\\nEvaluation against test dataset: \\n--------------------------------------------------\")\n",
        "\n",
        "model.evaluate(X_test, Y_test)"
      ]
    },
    {
      "cell_type": "code",
      "execution_count": null,
      "id": "4dfc7056",
      "metadata": {
        "id": "4dfc7056",
        "outputId": "acffca55-de3f-46bc-95d2-cc4013a18c76"
      },
      "outputs": [
        {
          "name": "stderr",
          "output_type": "stream",
          "text": [
            "WARNING:absl:Function `_wrapped_model` contains input name(s) Hidden-Layer-1_input with unsupported characters which will be renamed to hidden_layer_1_input in the SavedModel.\n"
          ]
        },
        {
          "name": "stdout",
          "output_type": "stream",
          "text": [
            "INFO:tensorflow:Assets written to: iris_save\\assets\n"
          ]
        },
        {
          "name": "stderr",
          "output_type": "stream",
          "text": [
            "INFO:tensorflow:Assets written to: iris_save\\assets\n"
          ]
        },
        {
          "name": "stdout",
          "output_type": "stream",
          "text": [
            "Model: \"sequential_1\"\n",
            "_________________________________________________________________\n",
            " Layer (type)                Output Shape              Param #   \n",
            "=================================================================\n",
            " Hidden-Layer-1 (Dense)      (None, 128)               640       \n",
            "                                                                 \n",
            " Hidden-Layer-2 (Dense)      (None, 128)               16512     \n",
            "                                                                 \n",
            " Output-Layer (Dense)        (None, 3)                 387       \n",
            "                                                                 \n",
            "=================================================================\n",
            "Total params: 17,539\n",
            "Trainable params: 17,539\n",
            "Non-trainable params: 0\n",
            "_________________________________________________________________\n"
          ]
        }
      ],
      "source": [
        "# Saving the model\n",
        "model.save(\"iris_save\")\n",
        "\n",
        "# Loading the model\n",
        "loaded_model= keras.models.load_model(\"iris_save\")\n",
        "\n",
        "#print the model summary\n",
        "loaded_model.summary()"
      ]
    },
    {
      "cell_type": "code",
      "execution_count": null,
      "id": "b5781c2f",
      "metadata": {
        "id": "b5781c2f",
        "outputId": "63fd99f2-7635-45a6-d908-c5fb85837b7e"
      },
      "outputs": [
        {
          "name": "stdout",
          "output_type": "stream",
          "text": [
            "Raw Prediction Output (Probabilities): [[8.7921571e-15 9.7318774e-01 2.6812237e-02]]\n",
            "Prediction is ['versicolor']\n"
          ]
        }
      ],
      "source": [
        "# Predictions with Deep Learning model\n",
        "\n",
        "# Raw prediction input\n",
        "\n",
        "prediction_input=[[11.6,1.,3.4,3.4]]\n",
        "\n",
        "# scale the prediction data with the same scaling model\n",
        "scaled_input= scaler.transform(prediction_input)\n",
        "\n",
        "# get the raw prediction probabilities\n",
        "raw_prediction= loaded_model.predict(scaled_input)\n",
        "print(\"Raw Prediction Output (Probabilities):\", raw_prediction)\n",
        "\n",
        "# Find Prediction\n",
        "prediction= np.argmax(raw_prediction)\n",
        "print(\"Prediction is\", label_encoder.inverse_transform([prediction]))"
      ]
    },
    {
      "cell_type": "markdown",
      "id": "28af662a",
      "metadata": {
        "id": "28af662a"
      },
      "source": [
        "# Convolutional Neural Network"
      ]
    },
    {
      "cell_type": "code",
      "execution_count": null,
      "id": "bffa7308",
      "metadata": {
        "id": "bffa7308"
      },
      "outputs": [],
      "source": [
        "# A Convolutional Neural Network (CNN) is a type of artificial neural network used in \n",
        "# image recognition and processing that is specifically designed to process pixel data.\n",
        "\n",
        "# CNNs are powerful image processing AI, that use deep learning to perform both generative and\n",
        "# descriptive tasks example image recognition, video recognition\n",
        "\n",
        "# Convolution Layer- The Convolution Layer is the core building block of the CNN This layer performs\n",
        "# dot product between two matrices, where one matrix is the set of learnable parameters also known \n",
        "# as kernels and the other matrix is the restricted portion of the receptive field.\n",
        "\n",
        "# Pooling operation is similar to the convolutional layer, the pooling layer is responsible\n",
        "# for reducing the spatial size of the convolved feature."
      ]
    },
    {
      "cell_type": "markdown",
      "id": "7c59a07b",
      "metadata": {
        "id": "7c59a07b"
      },
      "source": [
        "# CNN Model on MNIST Dataset for written digit classification"
      ]
    },
    {
      "cell_type": "code",
      "execution_count": null,
      "id": "4357b879",
      "metadata": {
        "id": "4357b879"
      },
      "outputs": [],
      "source": [
        "from keras.datasets import mnist\n",
        "from keras.preprocessing.image import load_img, array_to_img\n",
        "from keras.utils.np_utils import to_categorical\n",
        "from keras.models import Sequential\n",
        "from keras.layers import Dense\n",
        "\n",
        "import numpy as np\n",
        "import matplotlib.pyplot as plt"
      ]
    },
    {
      "cell_type": "code",
      "execution_count": null,
      "id": "df32994d",
      "metadata": {
        "id": "df32994d"
      },
      "outputs": [],
      "source": [
        "# Load the data\n",
        "\n",
        "(X_train, y_train), (X_test, y_test)= mnist.load_data()"
      ]
    },
    {
      "cell_type": "code",
      "execution_count": null,
      "id": "19cf3aa7",
      "metadata": {
        "id": "19cf3aa7",
        "outputId": "59bda662-3ecd-4ce3-bfd2-30412fc59cc0"
      },
      "outputs": [
        {
          "name": "stdout",
          "output_type": "stream",
          "text": [
            "(60000, 28, 28)\n",
            "(60000,)\n",
            "(10000, 28, 28)\n",
            "(10000,)\n"
          ]
        }
      ],
      "source": [
        "print(X_train.shape)\n",
        "print(y_train.shape)\n",
        "print(X_test.shape)\n",
        "print(y_test.shape)"
      ]
    },
    {
      "cell_type": "code",
      "execution_count": null,
      "id": "20f22674",
      "metadata": {
        "id": "20f22674",
        "outputId": "80f239bf-14cb-4c90-98aa-2833bb21246d"
      },
      "outputs": [
        {
          "data": {
            "text/plain": [
              "(28, 28)"
            ]
          },
          "execution_count": 31,
          "metadata": {},
          "output_type": "execute_result"
        }
      ],
      "source": [
        "X_train[0].shape"
      ]
    },
    {
      "cell_type": "code",
      "execution_count": null,
      "id": "46f58aab",
      "metadata": {
        "id": "46f58aab",
        "outputId": "03e3e17d-024a-4d1a-d403-f53d97c91075"
      },
      "outputs": [
        {
          "data": {
            "text/plain": [
              "<matplotlib.image.AxesImage at 0x23702d99070>"
            ]
          },
          "execution_count": 32,
          "metadata": {},
          "output_type": "execute_result"
        },
        {
          "data": {
            "image/png": "[encoded data removed]",
            "text/plain": [
              "<Figure size 432x288 with 1 Axes>"
            ]
          },
          "metadata": {
            "needs_background": "light"
          },
          "output_type": "display_data"
        }
      ],
      "source": [
        "plt.imshow(X_train[0], cmap=\"gray\")"
      ]
    },
    {
      "cell_type": "code",
      "execution_count": null,
      "id": "e97c52f9",
      "metadata": {
        "id": "e97c52f9",
        "outputId": "50c20835-aa74-4cbf-a961-60eac79e2236"
      },
      "outputs": [
        {
          "data": {
            "text/plain": [
              "5"
            ]
          },
          "execution_count": 33,
          "metadata": {},
          "output_type": "execute_result"
        }
      ],
      "source": [
        "y_train[0]"
      ]
    },
    {
      "cell_type": "code",
      "execution_count": null,
      "id": "02f2fb37",
      "metadata": {
        "id": "02f2fb37"
      },
      "outputs": [],
      "source": [
        "# Preprocess the image data\n",
        "\n",
        "image_height, image_width=28,28"
      ]
    },
    {
      "cell_type": "code",
      "execution_count": null,
      "id": "bbc7668e",
      "metadata": {
        "id": "bbc7668e",
        "outputId": "6d4eb637-8854-4417-bccd-55c7eb8f8a07"
      },
      "outputs": [
        {
          "name": "stdout",
          "output_type": "stream",
          "text": [
            "(60000, 784)\n",
            "(10000, 784)\n"
          ]
        }
      ],
      "source": [
        "X_train=X_train.reshape(60000, image_height*image_width)\n",
        "X_test= X_test.reshape(10000, image_height*image_width)\n",
        "\n",
        "print(X_train.shape)\n",
        "print(X_test.shape)"
      ]
    },
    {
      "cell_type": "code",
      "execution_count": null,
      "id": "0197f6a4",
      "metadata": {
        "id": "0197f6a4",
        "outputId": "6757f336-b460-49ac-8358-38c64439bab0"
      },
      "outputs": [
        {
          "name": "stdout",
          "output_type": "stream",
          "text": [
            "[  0   0   0   0   0   0   0   0   0   0   0   0   0   0   0   0   0   0\n",
            "   0   0   0   0   0   0   0   0   0   0   0   0   0   0   0   0   0   0\n",
            "   0   0   0   0   0   0   0   0   0   0   0   0   0   0   0   0   0   0\n",
            "   0   0   0   0   0   0   0   0   0   0   0   0   0   0   0   0   0   0\n",
            "   0   0   0   0   0   0   0   0   0   0   0   0   0   0   0   0   0   0\n",
            "   0   0   0   0   0   0   0   0   0   0   0   0   0   0   0   0   0   0\n",
            "   0   0   0   0   0   0   0   0   0   0   0   0   0   0   0   0   0   0\n",
            "   0   0   0   0   0   0   0   0   0   0   0   0   0   0   0   0   0   0\n",
            "   0   0   0   0   0   0   0   0   3  18  18  18 126 136 175  26 166 255\n",
            " 247 127   0   0   0   0   0   0   0   0   0   0   0   0  30  36  94 154\n",
            " 170 253 253 253 253 253 225 172 253 242 195  64   0   0   0   0   0   0\n",
            "   0   0   0   0   0  49 238 253 253 253 253 253 253 253 253 251  93  82\n",
            "  82  56  39   0   0   0   0   0   0   0   0   0   0   0   0  18 219 253\n",
            " 253 253 253 253 198 182 247 241   0   0   0   0   0   0   0   0   0   0\n",
            "   0   0   0   0   0   0   0   0  80 156 107 253 253 205  11   0  43 154\n",
            "   0   0   0   0   0   0   0   0   0   0   0   0   0   0   0   0   0   0\n",
            "   0  14   1 154 253  90   0   0   0   0   0   0   0   0   0   0   0   0\n",
            "   0   0   0   0   0   0   0   0   0   0   0   0   0 139 253 190   2   0\n",
            "   0   0   0   0   0   0   0   0   0   0   0   0   0   0   0   0   0   0\n",
            "   0   0   0   0   0  11 190 253  70   0   0   0   0   0   0   0   0   0\n",
            "   0   0   0   0   0   0   0   0   0   0   0   0   0   0   0   0  35 241\n",
            " 225 160 108   1   0   0   0   0   0   0   0   0   0   0   0   0   0   0\n",
            "   0   0   0   0   0   0   0   0   0  81 240 253 253 119  25   0   0   0\n",
            "   0   0   0   0   0   0   0   0   0   0   0   0   0   0   0   0   0   0\n",
            "   0   0  45 186 253 253 150  27   0   0   0   0   0   0   0   0   0   0\n",
            "   0   0   0   0   0   0   0   0   0   0   0   0   0  16  93 252 253 187\n",
            "   0   0   0   0   0   0   0   0   0   0   0   0   0   0   0   0   0   0\n",
            "   0   0   0   0   0   0   0 249 253 249  64   0   0   0   0   0   0   0\n",
            "   0   0   0   0   0   0   0   0   0   0   0   0   0   0  46 130 183 253\n",
            " 253 207   2   0   0   0   0   0   0   0   0   0   0   0   0   0   0   0\n",
            "   0   0   0   0  39 148 229 253 253 253 250 182   0   0   0   0   0   0\n",
            "   0   0   0   0   0   0   0   0   0   0   0   0  24 114 221 253 253 253\n",
            " 253 201  78   0   0   0   0   0   0   0   0   0   0   0   0   0   0   0\n",
            "   0   0  23  66 213 253 253 253 253 198  81   2   0   0   0   0   0   0\n",
            "   0   0   0   0   0   0   0   0   0   0  18 171 219 253 253 253 253 195\n",
            "  80   9   0   0   0   0   0   0   0   0   0   0   0   0   0   0   0   0\n",
            "  55 172 226 253 253 253 253 244 133  11   0   0   0   0   0   0   0   0\n",
            "   0   0   0   0   0   0   0   0   0   0 136 253 253 253 212 135 132  16\n",
            "   0   0   0   0   0   0   0   0   0   0   0   0   0   0   0   0   0   0\n",
            "   0   0   0   0   0   0   0   0   0   0   0   0   0   0   0   0   0   0\n",
            "   0   0   0   0   0   0   0   0   0   0   0   0   0   0   0   0   0   0\n",
            "   0   0   0   0   0   0   0   0   0   0   0   0   0   0   0   0   0   0\n",
            "   0   0   0   0   0   0   0   0   0   0   0   0   0   0   0   0   0   0\n",
            "   0   0   0   0   0   0   0   0   0   0]\n"
          ]
        }
      ],
      "source": [
        "print(X_train[0])"
      ]
    },
    {
      "cell_type": "code",
      "execution_count": null,
      "id": "3a17f70f",
      "metadata": {
        "id": "3a17f70f"
      },
      "outputs": [],
      "source": [
        "X_train= X_train.astype('float32')\n",
        "X_test=X_test.astype('float32')"
      ]
    },
    {
      "cell_type": "code",
      "execution_count": null,
      "id": "62e53842",
      "metadata": {
        "id": "62e53842",
        "outputId": "b3446f73-83a8-41f3-a45a-c2a397fa0f58"
      },
      "outputs": [
        {
          "name": "stdout",
          "output_type": "stream",
          "text": [
            "[0.         0.         0.         0.         0.         0.\n",
            " 0.         0.         0.         0.         0.         0.\n",
            " 0.         0.         0.         0.         0.         0.\n",
            " 0.         0.         0.         0.         0.         0.\n",
            " 0.         0.         0.         0.         0.         0.\n",
            " 0.         0.         0.         0.         0.         0.\n",
            " 0.         0.         0.         0.         0.         0.\n",
            " 0.         0.         0.         0.         0.         0.\n",
            " 0.         0.         0.         0.         0.         0.\n",
            " 0.         0.         0.         0.         0.         0.\n",
            " 0.         0.         0.         0.         0.         0.\n",
            " 0.         0.         0.         0.         0.         0.\n",
            " 0.         0.         0.         0.         0.         0.\n",
            " 0.         0.         0.         0.         0.         0.\n",
            " 0.         0.         0.         0.         0.         0.\n",
            " 0.         0.         0.         0.         0.         0.\n",
            " 0.         0.         0.         0.         0.         0.\n",
            " 0.         0.         0.         0.         0.         0.\n",
            " 0.         0.         0.         0.         0.         0.\n",
            " 0.         0.         0.         0.         0.         0.\n",
            " 0.         0.         0.         0.         0.         0.\n",
            " 0.         0.         0.         0.         0.         0.\n",
            " 0.         0.         0.         0.         0.         0.\n",
            " 0.         0.         0.         0.         0.         0.\n",
            " 0.         0.         0.         0.         0.         0.\n",
            " 0.         0.         0.01176471 0.07058824 0.07058824 0.07058824\n",
            " 0.49411765 0.53333336 0.6862745  0.10196079 0.6509804  1.\n",
            " 0.96862745 0.49803922 0.         0.         0.         0.\n",
            " 0.         0.         0.         0.         0.         0.\n",
            " 0.         0.         0.11764706 0.14117648 0.36862746 0.6039216\n",
            " 0.6666667  0.99215686 0.99215686 0.99215686 0.99215686 0.99215686\n",
            " 0.88235295 0.6745098  0.99215686 0.9490196  0.7647059  0.2509804\n",
            " 0.         0.         0.         0.         0.         0.\n",
            " 0.         0.         0.         0.         0.         0.19215687\n",
            " 0.93333334 0.99215686 0.99215686 0.99215686 0.99215686 0.99215686\n",
            " 0.99215686 0.99215686 0.99215686 0.9843137  0.3647059  0.32156864\n",
            " 0.32156864 0.21960784 0.15294118 0.         0.         0.\n",
            " 0.         0.         0.         0.         0.         0.\n",
            " 0.         0.         0.         0.07058824 0.85882354 0.99215686\n",
            " 0.99215686 0.99215686 0.99215686 0.99215686 0.7764706  0.7137255\n",
            " 0.96862745 0.94509804 0.         0.         0.         0.\n",
            " 0.         0.         0.         0.         0.         0.\n",
            " 0.         0.         0.         0.         0.         0.\n",
            " 0.         0.         0.3137255  0.6117647  0.41960785 0.99215686\n",
            " 0.99215686 0.8039216  0.04313726 0.         0.16862746 0.6039216\n",
            " 0.         0.         0.         0.         0.         0.\n",
            " 0.         0.         0.         0.         0.         0.\n",
            " 0.         0.         0.         0.         0.         0.\n",
            " 0.         0.05490196 0.00392157 0.6039216  0.99215686 0.3529412\n",
            " 0.         0.         0.         0.         0.         0.\n",
            " 0.         0.         0.         0.         0.         0.\n",
            " 0.         0.         0.         0.         0.         0.\n",
            " 0.         0.         0.         0.         0.         0.\n",
            " 0.         0.54509807 0.99215686 0.74509805 0.00784314 0.\n",
            " 0.         0.         0.         0.         0.         0.\n",
            " 0.         0.         0.         0.         0.         0.\n",
            " 0.         0.         0.         0.         0.         0.\n",
            " 0.         0.         0.         0.         0.         0.04313726\n",
            " 0.74509805 0.99215686 0.27450982 0.         0.         0.\n",
            " 0.         0.         0.         0.         0.         0.\n",
            " 0.         0.         0.         0.         0.         0.\n",
            " 0.         0.         0.         0.         0.         0.\n",
            " 0.         0.         0.         0.         0.13725491 0.94509804\n",
            " 0.88235295 0.627451   0.42352942 0.00392157 0.         0.\n",
            " 0.         0.         0.         0.         0.         0.\n",
            " 0.         0.         0.         0.         0.         0.\n",
            " 0.         0.         0.         0.         0.         0.\n",
            " 0.         0.         0.         0.31764707 0.9411765  0.99215686\n",
            " 0.99215686 0.46666667 0.09803922 0.         0.         0.\n",
            " 0.         0.         0.         0.         0.         0.\n",
            " 0.         0.         0.         0.         0.         0.\n",
            " 0.         0.         0.         0.         0.         0.\n",
            " 0.         0.         0.1764706  0.7294118  0.99215686 0.99215686\n",
            " 0.5882353  0.10588235 0.         0.         0.         0.\n",
            " 0.         0.         0.         0.         0.         0.\n",
            " 0.         0.         0.         0.         0.         0.\n",
            " 0.         0.         0.         0.         0.         0.\n",
            " 0.         0.0627451  0.3647059  0.9882353  0.99215686 0.73333335\n",
            " 0.         0.         0.         0.         0.         0.\n",
            " 0.         0.         0.         0.         0.         0.\n",
            " 0.         0.         0.         0.         0.         0.\n",
            " 0.         0.         0.         0.         0.         0.\n",
            " 0.         0.9764706  0.99215686 0.9764706  0.2509804  0.\n",
            " 0.         0.         0.         0.         0.         0.\n",
            " 0.         0.         0.         0.         0.         0.\n",
            " 0.         0.         0.         0.         0.         0.\n",
            " 0.         0.         0.18039216 0.50980395 0.7176471  0.99215686\n",
            " 0.99215686 0.8117647  0.00784314 0.         0.         0.\n",
            " 0.         0.         0.         0.         0.         0.\n",
            " 0.         0.         0.         0.         0.         0.\n",
            " 0.         0.         0.         0.         0.15294118 0.5803922\n",
            " 0.8980392  0.99215686 0.99215686 0.99215686 0.98039216 0.7137255\n",
            " 0.         0.         0.         0.         0.         0.\n",
            " 0.         0.         0.         0.         0.         0.\n",
            " 0.         0.         0.         0.         0.         0.\n",
            " 0.09411765 0.44705883 0.8666667  0.99215686 0.99215686 0.99215686\n",
            " 0.99215686 0.7882353  0.30588236 0.         0.         0.\n",
            " 0.         0.         0.         0.         0.         0.\n",
            " 0.         0.         0.         0.         0.         0.\n",
            " 0.         0.         0.09019608 0.25882354 0.8352941  0.99215686\n",
            " 0.99215686 0.99215686 0.99215686 0.7764706  0.31764707 0.00784314\n",
            " 0.         0.         0.         0.         0.         0.\n",
            " 0.         0.         0.         0.         0.         0.\n",
            " 0.         0.         0.         0.         0.07058824 0.67058825\n",
            " 0.85882354 0.99215686 0.99215686 0.99215686 0.99215686 0.7647059\n",
            " 0.3137255  0.03529412 0.         0.         0.         0.\n",
            " 0.         0.         0.         0.         0.         0.\n",
            " 0.         0.         0.         0.         0.         0.\n",
            " 0.21568628 0.6745098  0.8862745  0.99215686 0.99215686 0.99215686\n",
            " 0.99215686 0.95686275 0.52156866 0.04313726 0.         0.\n",
            " 0.         0.         0.         0.         0.         0.\n",
            " 0.         0.         0.         0.         0.         0.\n",
            " 0.         0.         0.         0.         0.53333336 0.99215686\n",
            " 0.99215686 0.99215686 0.83137256 0.5294118  0.5176471  0.0627451\n",
            " 0.         0.         0.         0.         0.         0.\n",
            " 0.         0.         0.         0.         0.         0.\n",
            " 0.         0.         0.         0.         0.         0.\n",
            " 0.         0.         0.         0.         0.         0.\n",
            " 0.         0.         0.         0.         0.         0.\n",
            " 0.         0.         0.         0.         0.         0.\n",
            " 0.         0.         0.         0.         0.         0.\n",
            " 0.         0.         0.         0.         0.         0.\n",
            " 0.         0.         0.         0.         0.         0.\n",
            " 0.         0.         0.         0.         0.         0.\n",
            " 0.         0.         0.         0.         0.         0.\n",
            " 0.         0.         0.         0.         0.         0.\n",
            " 0.         0.         0.         0.         0.         0.\n",
            " 0.         0.         0.         0.         0.         0.\n",
            " 0.         0.         0.         0.         0.         0.\n",
            " 0.         0.         0.         0.         0.         0.\n",
            " 0.         0.         0.         0.        ]\n"
          ]
        }
      ],
      "source": [
        "X_train/=255.0\n",
        "X_test/=255.0\n",
        "\n",
        "print(X_train[0])"
      ]
    },
    {
      "cell_type": "code",
      "execution_count": null,
      "id": "92d2ef03",
      "metadata": {
        "id": "92d2ef03",
        "outputId": "a46df1cb-3578-459f-86d0-9acdddcffe48"
      },
      "outputs": [
        {
          "name": "stdout",
          "output_type": "stream",
          "text": [
            "(60000,)\n",
            "(10000,)\n"
          ]
        }
      ],
      "source": [
        "print(y_train.shape)\n",
        "print(y_test.shape)"
      ]
    },
    {
      "cell_type": "code",
      "execution_count": null,
      "id": "ca19ec7d",
      "metadata": {
        "id": "ca19ec7d",
        "outputId": "b3f83185-6ac6-4854-b260-a6a7389e3dba"
      },
      "outputs": [
        {
          "name": "stdout",
          "output_type": "stream",
          "text": [
            "(60000, 10)\n",
            "(10000, 10)\n"
          ]
        }
      ],
      "source": [
        "y_train= to_categorical(y_train,10)\n",
        "y_test=to_categorical(y_test,10)\n",
        "\n",
        "print(y_train.shape)\n",
        "print(y_test.shape)"
      ]
    },
    {
      "cell_type": "code",
      "execution_count": null,
      "id": "d3e64542",
      "metadata": {
        "id": "d3e64542"
      },
      "outputs": [],
      "source": [
        "# Building the model\n",
        "\n",
        "model=Sequential()\n",
        "\n",
        "model.add(Dense(512, activation=\"relu\", input_shape=(784,)))\n",
        "model.add(Dense(512, activation='relu'))\n",
        "model.add(Dense(10, activation='softmax'))"
      ]
    },
    {
      "cell_type": "code",
      "execution_count": null,
      "id": "88196852",
      "metadata": {
        "id": "88196852",
        "outputId": "4441a929-246a-4428-c02e-3fed480859f4"
      },
      "outputs": [
        {
          "name": "stdout",
          "output_type": "stream",
          "text": [
            "Model: \"sequential_2\"\n",
            "_________________________________________________________________\n",
            " Layer (type)                Output Shape              Param #   \n",
            "=================================================================\n",
            " dense (Dense)               (None, 512)               401920    \n",
            "                                                                 \n",
            " dense_1 (Dense)             (None, 512)               262656    \n",
            "                                                                 \n",
            " dense_2 (Dense)             (None, 10)                5130      \n",
            "                                                                 \n",
            "=================================================================\n",
            "Total params: 669,706\n",
            "Trainable params: 669,706\n",
            "Non-trainable params: 0\n",
            "_________________________________________________________________\n"
          ]
        }
      ],
      "source": [
        "# Compile the model\n",
        "\n",
        "model.compile(optimizer=\"adam\", loss=\"categorical_crossentropy\", metrics=[\"accuracy\"])\n",
        "model.summary()"
      ]
    },
    {
      "cell_type": "code",
      "execution_count": null,
      "id": "7268a07a",
      "metadata": {
        "id": "7268a07a",
        "outputId": "d31e615d-becc-4a42-8258-7b8f50580791"
      },
      "outputs": [
        {
          "data": {
            "text/plain": [
              "401920"
            ]
          },
          "execution_count": 44,
          "metadata": {},
          "output_type": "execute_result"
        }
      ],
      "source": [
        "784*512 +512"
      ]
    },
    {
      "cell_type": "code",
      "execution_count": null,
      "id": "6937c79e",
      "metadata": {
        "id": "6937c79e",
        "outputId": "0c1ef06c-c5a3-4a17-e99b-d23cfd02ca25"
      },
      "outputs": [
        {
          "data": {
            "text/plain": [
              "262656"
            ]
          },
          "execution_count": 45,
          "metadata": {},
          "output_type": "execute_result"
        }
      ],
      "source": [
        "512*512+512"
      ]
    },
    {
      "cell_type": "code",
      "execution_count": null,
      "id": "a633419f",
      "metadata": {
        "id": "a633419f",
        "outputId": "f091ac52-823d-4bd0-e634-cf8cb83a0649"
      },
      "outputs": [
        {
          "data": {
            "text/plain": [
              "5130"
            ]
          },
          "execution_count": 46,
          "metadata": {},
          "output_type": "execute_result"
        }
      ],
      "source": [
        "512*10+10"
      ]
    },
    {
      "cell_type": "code",
      "execution_count": null,
      "id": "cf29d6d5",
      "metadata": {
        "id": "cf29d6d5",
        "outputId": "b01c569c-c77d-4317-e18c-381527a8e4f9"
      },
      "outputs": [
        {
          "name": "stdout",
          "output_type": "stream",
          "text": [
            "Epoch 1/15\n",
            "1875/1875 [==============================] - 7s 4ms/step - loss: 0.1835 - accuracy: 0.9451 - val_loss: 0.1103 - val_accuracy: 0.9677\n",
            "Epoch 2/15\n",
            "1875/1875 [==============================] - 7s 4ms/step - loss: 0.0797 - accuracy: 0.9749 - val_loss: 0.0762 - val_accuracy: 0.9774\n",
            "Epoch 3/15\n",
            "1875/1875 [==============================] - 8s 4ms/step - loss: 0.0542 - accuracy: 0.9824 - val_loss: 0.0766 - val_accuracy: 0.9769\n",
            "Epoch 4/15\n",
            "1875/1875 [==============================] - 9s 5ms/step - loss: 0.0435 - accuracy: 0.9863 - val_loss: 0.0856 - val_accuracy: 0.9738\n",
            "Epoch 5/15\n",
            "1875/1875 [==============================] - 8s 4ms/step - loss: 0.0328 - accuracy: 0.9894 - val_loss: 0.0806 - val_accuracy: 0.9788\n",
            "Epoch 6/15\n",
            "1875/1875 [==============================] - 8s 4ms/step - loss: 0.0283 - accuracy: 0.9914 - val_loss: 0.0731 - val_accuracy: 0.9800\n",
            "Epoch 7/15\n",
            "1875/1875 [==============================] - 9s 5ms/step - loss: 0.0237 - accuracy: 0.9925 - val_loss: 0.0822 - val_accuracy: 0.9804\n",
            "Epoch 8/15\n",
            "1875/1875 [==============================] - 8s 4ms/step - loss: 0.0222 - accuracy: 0.9929 - val_loss: 0.0731 - val_accuracy: 0.9833\n",
            "Epoch 9/15\n",
            "1875/1875 [==============================] - 8s 5ms/step - loss: 0.0206 - accuracy: 0.9936 - val_loss: 0.0822 - val_accuracy: 0.9818\n",
            "Epoch 10/15\n",
            "1875/1875 [==============================] - 8s 4ms/step - loss: 0.0186 - accuracy: 0.9943 - val_loss: 0.0944 - val_accuracy: 0.9809\n",
            "Epoch 11/15\n",
            "1875/1875 [==============================] - 9s 5ms/step - loss: 0.0167 - accuracy: 0.9953 - val_loss: 0.0974 - val_accuracy: 0.9805\n",
            "Epoch 12/15\n",
            "1875/1875 [==============================] - 9s 5ms/step - loss: 0.0162 - accuracy: 0.9951 - val_loss: 0.0953 - val_accuracy: 0.9833\n",
            "Epoch 13/15\n",
            "1875/1875 [==============================] - 11s 6ms/step - loss: 0.0164 - accuracy: 0.9956 - val_loss: 0.1184 - val_accuracy: 0.9795\n",
            "Epoch 14/15\n",
            "1875/1875 [==============================] - 11s 6ms/step - loss: 0.0162 - accuracy: 0.9957 - val_loss: 0.1197 - val_accuracy: 0.9800\n",
            "Epoch 15/15\n",
            "1875/1875 [==============================] - 10s 5ms/step - loss: 0.0136 - accuracy: 0.9963 - val_loss: 0.1274 - val_accuracy: 0.9798\n"
          ]
        }
      ],
      "source": [
        "# Train the model\n",
        "\n",
        "history= model.fit(X_train, y_train, epochs=15, validation_data=(X_test, y_test))"
      ]
    },
    {
      "cell_type": "code",
      "execution_count": null,
      "id": "874d8a13",
      "metadata": {
        "id": "874d8a13",
        "outputId": "45f7a131-c14d-4cf0-bf22-6d46a20edf8c"
      },
      "outputs": [
        {
          "data": {
            "text/plain": [
              "[<matplotlib.lines.Line2D at 0x2370510fe20>]"
            ]
          },
          "execution_count": 48,
          "metadata": {},
          "output_type": "execute_result"
        },
        {
          "data": {
            "image/png": "[encoded data removed]",
            "text/plain": [
              "<Figure size 432x288 with 1 Axes>"
            ]
          },
          "metadata": {
            "needs_background": "light"
          },
          "output_type": "display_data"
        }
      ],
      "source": [
        "plt.plot(history.history['accuracy'])"
      ]
    },
    {
      "cell_type": "code",
      "execution_count": null,
      "id": "a0ee582a",
      "metadata": {
        "id": "a0ee582a",
        "outputId": "a5959981-344f-43fb-85c6-939c8d3adc2a"
      },
      "outputs": [
        {
          "name": "stdout",
          "output_type": "stream",
          "text": [
            "313/313 [==============================] - 0s 2ms/step - loss: 0.1274 - accuracy: 0.9798\n"
          ]
        }
      ],
      "source": [
        "# Evaluating the model\n",
        "\n",
        "score=model.evaluate(X_test, y_test)"
      ]
    },
    {
      "cell_type": "code",
      "execution_count": null,
      "id": "d26f8699",
      "metadata": {
        "id": "d26f8699"
      },
      "outputs": [],
      "source": [
        "# 32*32 with 3 channels 32*32*3=3072 weights\n",
        "# 120*120*3 Over-fitting\n",
        "\n",
        "# Convolution is a mathematical operation used to extract features from an image\n",
        "\n",
        "# Padding and Pooling\n",
        "\n",
        "# If a NxN matrix convolved with fxf matrix with padding p, then the resultant matrix size is\n",
        "# (n+2p-f+1)*(n+2p-f+1)\n",
        "\n",
        "# Stride- Stride is the number of pixels shifts over the input matrix. For padding p, filter fxf\n",
        "# and input image of size nxn and stride s, the output image dimensions will be\n",
        "#[{(n+2p-f+1)/s}+1]*[{(n+2p-f+1)/s}+1]\n",
        "\n",
        "#Pooling- Pooling is used to reduce the spatial size of the image\n",
        "\n",
        "# Max Pooling\n",
        "# Average Pooling\n"
      ]
    },
    {
      "cell_type": "code",
      "execution_count": null,
      "id": "c2e30d93",
      "metadata": {
        "id": "c2e30d93"
      },
      "outputs": [],
      "source": [
        "# In neural networks we only had fully connected layer, otherwise known as the dense layer.\n",
        "# With a convolution neural networks, we have more operations such as the convolution operation,\n",
        "# max pooling, flattening and a fully connected layer or dense layer"
      ]
    },
    {
      "cell_type": "code",
      "execution_count": null,
      "id": "43b9caf5",
      "metadata": {
        "id": "43b9caf5"
      },
      "outputs": [],
      "source": [
        "from keras.layers import Conv2D, MaxPooling2D, Flatten, Dense\n",
        "from keras.models import Sequential\n",
        "from keras.datasets import mnist\n",
        "from keras.utils.np_utils import to_categorical"
      ]
    },
    {
      "cell_type": "code",
      "execution_count": null,
      "id": "83093b0d",
      "metadata": {
        "id": "83093b0d"
      },
      "outputs": [],
      "source": [
        "(X_train, y_train), (X_test, y_test)= mnist.load_data()"
      ]
    },
    {
      "cell_type": "code",
      "execution_count": null,
      "id": "75294737",
      "metadata": {
        "id": "75294737",
        "outputId": "05447c27-8fb3-47b1-f2b9-ba550a42fb51"
      },
      "outputs": [
        {
          "name": "stdout",
          "output_type": "stream",
          "text": [
            "(60000, 28, 28)\n",
            "(60000,)\n",
            "(10000, 28, 28)\n",
            "(10000,)\n"
          ]
        }
      ],
      "source": [
        "print(X_train.shape)\n",
        "print(y_train.shape)\n",
        "print(X_test.shape)\n",
        "print(y_test.shape)"
      ]
    },
    {
      "cell_type": "code",
      "execution_count": null,
      "id": "ac5a5a28",
      "metadata": {
        "id": "ac5a5a28"
      },
      "outputs": [],
      "source": [
        "X_train=X_train.reshape(60000,28,28,1)\n",
        "X_test=X_test.reshape(10000,28,28,1)\n",
        "X_train=X_train.astype('float32')\n",
        "X_test=X_test.astype('float32')\n",
        "X_train/=255.0\n",
        "X_test/=255.0\n",
        "\n",
        "y_train= to_categorical(y_train,10)\n",
        "y_test=to_categorical(y_test,10)"
      ]
    },
    {
      "cell_type": "code",
      "execution_count": null,
      "id": "26241b6a",
      "metadata": {
        "id": "26241b6a",
        "outputId": "60793210-4c03-49cf-e035-d2e617827e0b"
      },
      "outputs": [
        {
          "name": "stdout",
          "output_type": "stream",
          "text": [
            "(60000, 28, 28, 1)\n",
            "(60000, 10)\n",
            "(10000, 28, 28, 1)\n",
            "(10000, 10)\n"
          ]
        }
      ],
      "source": [
        "print(X_train.shape)\n",
        "print(y_train.shape)\n",
        "print(X_test.shape)\n",
        "print(y_test.shape)"
      ]
    },
    {
      "cell_type": "code",
      "execution_count": null,
      "id": "11562253",
      "metadata": {
        "id": "11562253",
        "outputId": "59baee99-6a6b-4fa2-c76e-6fac69886c81"
      },
      "outputs": [
        {
          "name": "stdout",
          "output_type": "stream",
          "text": [
            "Model: \"sequential_3\"\n",
            "_________________________________________________________________\n",
            " Layer (type)                Output Shape              Param #   \n",
            "=================================================================\n",
            " conv2d (Conv2D)             (None, 28, 28, 32)        320       \n",
            "                                                                 \n",
            " max_pooling2d (MaxPooling2D  (None, 14, 14, 32)       0         \n",
            " )                                                               \n",
            "                                                                 \n",
            " conv2d_1 (Conv2D)           (None, 14, 14, 32)        9248      \n",
            "                                                                 \n",
            " max_pooling2d_1 (MaxPooling  (None, 7, 7, 32)         0         \n",
            " 2D)                                                             \n",
            "                                                                 \n",
            " flatten (Flatten)           (None, 1568)              0         \n",
            "                                                                 \n",
            " dense_3 (Dense)             (None, 64)                100416    \n",
            "                                                                 \n",
            " dense_4 (Dense)             (None, 10)                650       \n",
            "                                                                 \n",
            "=================================================================\n",
            "Total params: 110,634\n",
            "Trainable params: 110,634\n",
            "Non-trainable params: 0\n",
            "_________________________________________________________________\n",
            "None\n"
          ]
        }
      ],
      "source": [
        "# CNN model development\n",
        "\n",
        "cnn=Sequential()\n",
        "cnn.add(Conv2D(32, kernel_size=(3,3), input_shape=(28,28,1), padding='same', activation='relu'))\n",
        "cnn.add(MaxPooling2D())\n",
        "cnn.add(Conv2D(32, kernel_size=(3,3), padding='same', activation='relu'))\n",
        "cnn.add(MaxPooling2D())\n",
        "cnn.add(Flatten())\n",
        "cnn.add(Dense(64, activation='relu'))\n",
        "cnn.add(Dense(10, activation='softmax'))\n",
        "cnn.compile(optimizer='adam', loss='categorical_crossentropy', metrics=['accuracy'])\n",
        "print(cnn.summary())"
      ]
    },
    {
      "cell_type": "code",
      "execution_count": null,
      "id": "8a65670b",
      "metadata": {
        "id": "8a65670b",
        "outputId": "29afa48a-3dc7-45fa-d9bf-21023e35c468"
      },
      "outputs": [
        {
          "name": "stdout",
          "output_type": "stream",
          "text": [
            "Epoch 1/8\n",
            "1875/1875 [==============================] - 25s 13ms/step - loss: 0.1567 - accuracy: 0.9527 - val_loss: 0.0566 - val_accuracy: 0.9825\n",
            "Epoch 2/8\n",
            "1875/1875 [==============================] - 30s 16ms/step - loss: 0.0515 - accuracy: 0.9841 - val_loss: 0.0367 - val_accuracy: 0.9884\n",
            "Epoch 3/8\n",
            "1875/1875 [==============================] - 30s 16ms/step - loss: 0.0367 - accuracy: 0.9887 - val_loss: 0.0271 - val_accuracy: 0.9913\n",
            "Epoch 4/8\n",
            "1875/1875 [==============================] - 29s 16ms/step - loss: 0.0284 - accuracy: 0.9909 - val_loss: 0.0215 - val_accuracy: 0.9935\n",
            "Epoch 5/8\n",
            "1875/1875 [==============================] - 32s 17ms/step - loss: 0.0206 - accuracy: 0.9930 - val_loss: 0.0149 - val_accuracy: 0.9948\n",
            "Epoch 6/8\n",
            "1875/1875 [==============================] - 32s 17ms/step - loss: 0.0167 - accuracy: 0.9947 - val_loss: 0.0095 - val_accuracy: 0.9972\n",
            "Epoch 7/8\n",
            "1875/1875 [==============================] - 34s 18ms/step - loss: 0.0128 - accuracy: 0.9959 - val_loss: 0.0074 - val_accuracy: 0.9978\n",
            "Epoch 8/8\n",
            "1875/1875 [==============================] - 36s 19ms/step - loss: 0.0112 - accuracy: 0.9963 - val_loss: 0.0100 - val_accuracy: 0.9965\n"
          ]
        }
      ],
      "source": [
        "history_cnn= cnn.fit(X_train, y_train, epochs=8, verbose=1, validation_data=(X_train, y_train))"
      ]
    },
    {
      "cell_type": "code",
      "execution_count": null,
      "id": "0dc6f1f4",
      "metadata": {
        "id": "0dc6f1f4",
        "outputId": "f5514533-14ba-4fb5-9f6d-018bfa4d3d86"
      },
      "outputs": [
        {
          "data": {
            "text/plain": [
              "[<matplotlib.lines.Line2D at 0x23702e9ff40>]"
            ]
          },
          "execution_count": 58,
          "metadata": {},
          "output_type": "execute_result"
        },
        {
          "data": {
            "image/png": "[encoded data removed]",
            "text/plain": [
              "<Figure size 432x288 with 1 Axes>"
            ]
          },
          "metadata": {
            "needs_background": "light"
          },
          "output_type": "display_data"
        }
      ],
      "source": [
        "plt.plot(history_cnn.history['accuracy'])"
      ]
    },
    {
      "cell_type": "code",
      "execution_count": null,
      "id": "9dfd6450",
      "metadata": {
        "id": "9dfd6450",
        "outputId": "b7f48182-f300-403a-e6ae-9e40381b1f9c"
      },
      "outputs": [
        {
          "data": {
            "text/plain": [
              "[<matplotlib.lines.Line2D at 0x2370311ae80>]"
            ]
          },
          "execution_count": 60,
          "metadata": {},
          "output_type": "execute_result"
        },
        {
          "data": {
            "image/png": "[encoded data removed]",
            "text/plain": [
              "<Figure size 432x288 with 1 Axes>"
            ]
          },
          "metadata": {
            "needs_background": "light"
          },
          "output_type": "display_data"
        }
      ],
      "source": [
        "plt.plot(history_cnn.history['val_accuracy'])"
      ]
    },
    {
      "cell_type": "code",
      "execution_count": null,
      "id": "07b01ae8",
      "metadata": {
        "id": "07b01ae8"
      },
      "outputs": [],
      "source": [
        ""
      ]
    }
  ],
  "metadata": {
    "kernelspec": {
      "display_name": "Python 3 (ipykernel)",
      "language": "python",
      "name": "python3"
    },
    "language_info": {
      "codemirror_mode": {
        "name": "ipython",
        "version": 3
      },
      "file_extension": ".py",
      "mimetype": "text/x-python",
      "name": "python",
      "nbconvert_exporter": "python",
      "pygments_lexer": "ipython3",
      "version": "3.9.7"
    },
    "colab": {
      "name": "ANN and CNN.ipynb",
      "provenance": [],
      "collapsed_sections": [
        "28af662a",
        "7c59a07b"
      ],
      "include_colab_link": true
    }
  },
  "nbformat": 4,
  "nbformat_minor": 5
}